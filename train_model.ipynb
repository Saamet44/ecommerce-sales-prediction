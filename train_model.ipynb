
{
 "cells": [
  {
   "cell_type": "code",
   "execution_count": null,
   "id": "train-model",
   "metadata": {},
   "outputs": [],
   "source": [
    "import pandas as pd
",
    "import numpy as np
",
    "from tensorflow.keras.models import Sequential
",
    "from tensorflow.keras.layers import LSTM, Dense
",
    "from sklearn.preprocessing import MinMaxScaler
",
    "import pickle
",
    "
",
    "# Örnek veri yükleme
",
    "data = pd.read_csv('../data/sample_data.csv')
",
    "scaler = MinMaxScaler()
",
    "data['scaled_quantity'] = scaler.fit_transform(data[['total_quantity']])
",
    "
",
    "# Model eğitimi için veri hazırlığı
",
    "def create_sequences(data, seq_length):
",
    "    X, y = [], []
",
    "    for i in range(len(data) - seq_length):
",
    "        X.append(data[i:i+seq_length])
",
    "        y.append(data[i+seq_length])
",
    "    return np.array(X), np.array(y)
",
    "
",
    "sequence_length = 10
",
    "X, y = create_sequences(data['scaled_quantity'].values, sequence_length)
",
    "
",
    "# LSTM Modeli oluşturma
",
    "model = Sequential([
",
    "    LSTM(50, activation='relu', return_sequences=True, input_shape=(sequence_length, 1)),
",
    "    LSTM(50, activation='relu'),
",
    "    Dense(1)
",
    "])
",
    "model.compile(optimizer='adam', loss='mse')
",
    "model.fit(X, y, epochs=20, batch_size=32)
",
    "
",
    "# Model ve scaler kaydetme
",
    "model.save('../model/lstm_model.h5')
",
    "with open('../model/scaler.pkl', 'wb') as f:
",
    "    pickle.dump(scaler, f)
"
   ]
  }
 ],
 "metadata": {},
 "nbformat": 4,
 "nbformat_minor": 5
}
